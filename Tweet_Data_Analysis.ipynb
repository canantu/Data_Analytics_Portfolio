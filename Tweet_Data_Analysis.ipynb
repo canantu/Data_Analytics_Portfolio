{
 "cells": [
  {
   "cell_type": "code",
   "execution_count": 1,
   "id": "e3b92bcc-34d5-4fcd-a543-66a29d52b996",
   "metadata": {},
   "outputs": [],
   "source": [
    "from nltk.corpus import stopwords\n",
    "import pandas as pd\n",
    "import re"
   ]
  },
  {
   "cell_type": "code",
   "execution_count": 2,
   "id": "5a775460-7732-46ab-bfd4-c024aa789f3b",
   "metadata": {},
   "outputs": [
    {
     "data": {
      "text/html": [
       "<div>\n",
       "<style scoped>\n",
       "    .dataframe tbody tr th:only-of-type {\n",
       "        vertical-align: middle;\n",
       "    }\n",
       "\n",
       "    .dataframe tbody tr th {\n",
       "        vertical-align: top;\n",
       "    }\n",
       "\n",
       "    .dataframe thead th {\n",
       "        text-align: right;\n",
       "    }\n",
       "</style>\n",
       "<table border=\"1\" class=\"dataframe\">\n",
       "  <thead>\n",
       "    <tr style=\"text-align: right;\">\n",
       "      <th></th>\n",
       "      <th>timestamp</th>\n",
       "      <th>tweet_text</th>\n",
       "    </tr>\n",
       "  </thead>\n",
       "  <tbody>\n",
       "    <tr>\n",
       "      <th>0</th>\n",
       "      <td>2021-12-09 17:00:12+00:00</td>\n",
       "      <td>Today we shared details about how @CVSHealth i...</td>\n",
       "    </tr>\n",
       "    <tr>\n",
       "      <th>1</th>\n",
       "      <td>2021-12-02 16:38:09+00:00</td>\n",
       "      <td>It was a pleasure to join @Microsoft CEO @Saty...</td>\n",
       "    </tr>\n",
       "    <tr>\n",
       "      <th>2</th>\n",
       "      <td>2021-12-01 14:29:59+00:00</td>\n",
       "      <td>Congratulations to this year’s #Bloomberg50. I...</td>\n",
       "    </tr>\n",
       "    <tr>\n",
       "      <th>3</th>\n",
       "      <td>2021-11-11 14:00:19+00:00</td>\n",
       "      <td>On #VeteransDay, I want to recognize and thank...</td>\n",
       "    </tr>\n",
       "    <tr>\n",
       "      <th>4</th>\n",
       "      <td>2021-11-03 13:15:11+00:00</td>\n",
       "      <td>Earlier today @CVSHealth posted third quarter ...</td>\n",
       "    </tr>\n",
       "  </tbody>\n",
       "</table>\n",
       "</div>"
      ],
      "text/plain": [
       "                   timestamp  \\\n",
       "0  2021-12-09 17:00:12+00:00   \n",
       "1  2021-12-02 16:38:09+00:00   \n",
       "2  2021-12-01 14:29:59+00:00   \n",
       "3  2021-11-11 14:00:19+00:00   \n",
       "4  2021-11-03 13:15:11+00:00   \n",
       "\n",
       "                                          tweet_text  \n",
       "0  Today we shared details about how @CVSHealth i...  \n",
       "1  It was a pleasure to join @Microsoft CEO @Saty...  \n",
       "2  Congratulations to this year’s #Bloomberg50. I...  \n",
       "3  On #VeteransDay, I want to recognize and thank...  \n",
       "4  Earlier today @CVSHealth posted third quarter ...  "
      ]
     },
     "execution_count": 2,
     "metadata": {},
     "output_type": "execute_result"
    }
   ],
   "source": [
    "data= pd.read_csv('result.csv')\n",
    "data.head()"
   ]
  },
  {
   "cell_type": "code",
   "execution_count": 3,
   "id": "51222804-8422-48e6-b765-9bd20c17a75e",
   "metadata": {},
   "outputs": [],
   "source": [
    "stop = stopwords.words('english')"
   ]
  },
  {
   "cell_type": "code",
   "execution_count": 4,
   "id": "597896d9-bfc1-4a12-879d-585544fa08b6",
   "metadata": {},
   "outputs": [],
   "source": [
    "df = data.copy()"
   ]
  },
  {
   "cell_type": "code",
   "execution_count": 5,
   "id": "dfc99b94-4986-42a8-a8d9-7da780f3d017",
   "metadata": {},
   "outputs": [],
   "source": [
    "def remove_URL(text):\n",
    "    \n",
    "    return re.sub(r'https?://\\S+|www\\.\\S+', r'',text)"
   ]
  },
  {
   "cell_type": "code",
   "execution_count": 6,
   "id": "40651dd7-5932-4ade-a0e6-b41f7d3982bd",
   "metadata": {},
   "outputs": [
    {
     "data": {
      "text/html": [
       "<div>\n",
       "<style scoped>\n",
       "    .dataframe tbody tr th:only-of-type {\n",
       "        vertical-align: middle;\n",
       "    }\n",
       "\n",
       "    .dataframe tbody tr th {\n",
       "        vertical-align: top;\n",
       "    }\n",
       "\n",
       "    .dataframe thead th {\n",
       "        text-align: right;\n",
       "    }\n",
       "</style>\n",
       "<table border=\"1\" class=\"dataframe\">\n",
       "  <thead>\n",
       "    <tr style=\"text-align: right;\">\n",
       "      <th></th>\n",
       "      <th>timestamp</th>\n",
       "      <th>tweet_text</th>\n",
       "    </tr>\n",
       "  </thead>\n",
       "  <tbody>\n",
       "    <tr>\n",
       "      <th>0</th>\n",
       "      <td>2021-12-09 17:00:12+00:00</td>\n",
       "      <td>Today we shared details about how @CVSHealth i...</td>\n",
       "    </tr>\n",
       "    <tr>\n",
       "      <th>1</th>\n",
       "      <td>2021-12-02 16:38:09+00:00</td>\n",
       "      <td>It was a pleasure to join @Microsoft CEO @Saty...</td>\n",
       "    </tr>\n",
       "    <tr>\n",
       "      <th>2</th>\n",
       "      <td>2021-12-01 14:29:59+00:00</td>\n",
       "      <td>Congratulations to this year’s #Bloomberg50. I...</td>\n",
       "    </tr>\n",
       "    <tr>\n",
       "      <th>3</th>\n",
       "      <td>2021-11-11 14:00:19+00:00</td>\n",
       "      <td>On #VeteransDay, I want to recognize and thank...</td>\n",
       "    </tr>\n",
       "    <tr>\n",
       "      <th>4</th>\n",
       "      <td>2021-11-03 13:15:11+00:00</td>\n",
       "      <td>Earlier today @CVSHealth posted third quarter ...</td>\n",
       "    </tr>\n",
       "    <tr>\n",
       "      <th>...</th>\n",
       "      <td>...</td>\n",
       "      <td>...</td>\n",
       "    </tr>\n",
       "    <tr>\n",
       "      <th>829</th>\n",
       "      <td>2017-08-24 15:05:29+00:00</td>\n",
       "      <td>Thank you @GovMattBevin for being an ally in t...</td>\n",
       "    </tr>\n",
       "    <tr>\n",
       "      <th>830</th>\n",
       "      <td>2017-08-23 22:00:17+00:00</td>\n",
       "      <td>With @AbleTo_Health, we provide consumers with...</td>\n",
       "    </tr>\n",
       "    <tr>\n",
       "      <th>831</th>\n",
       "      <td>2017-08-23 20:57:36+00:00</td>\n",
       "      <td>RT @GovMattBevin: We don't have the luxury of ...</td>\n",
       "    </tr>\n",
       "    <tr>\n",
       "      <th>832</th>\n",
       "      <td>2017-08-23 20:16:12+00:00</td>\n",
       "      <td>Proud of our efforts to combat the opioid epid...</td>\n",
       "    </tr>\n",
       "    <tr>\n",
       "      <th>833</th>\n",
       "      <td>2017-08-23 00:04:07+00:00</td>\n",
       "      <td>I’m excited to join the online conversation as...</td>\n",
       "    </tr>\n",
       "  </tbody>\n",
       "</table>\n",
       "<p>834 rows × 2 columns</p>\n",
       "</div>"
      ],
      "text/plain": [
       "                     timestamp  \\\n",
       "0    2021-12-09 17:00:12+00:00   \n",
       "1    2021-12-02 16:38:09+00:00   \n",
       "2    2021-12-01 14:29:59+00:00   \n",
       "3    2021-11-11 14:00:19+00:00   \n",
       "4    2021-11-03 13:15:11+00:00   \n",
       "..                         ...   \n",
       "829  2017-08-24 15:05:29+00:00   \n",
       "830  2017-08-23 22:00:17+00:00   \n",
       "831  2017-08-23 20:57:36+00:00   \n",
       "832  2017-08-23 20:16:12+00:00   \n",
       "833  2017-08-23 00:04:07+00:00   \n",
       "\n",
       "                                            tweet_text  \n",
       "0    Today we shared details about how @CVSHealth i...  \n",
       "1    It was a pleasure to join @Microsoft CEO @Saty...  \n",
       "2    Congratulations to this year’s #Bloomberg50. I...  \n",
       "3    On #VeteransDay, I want to recognize and thank...  \n",
       "4    Earlier today @CVSHealth posted third quarter ...  \n",
       "..                                                 ...  \n",
       "829  Thank you @GovMattBevin for being an ally in t...  \n",
       "830  With @AbleTo_Health, we provide consumers with...  \n",
       "831  RT @GovMattBevin: We don't have the luxury of ...  \n",
       "832  Proud of our efforts to combat the opioid epid...  \n",
       "833  I’m excited to join the online conversation as...  \n",
       "\n",
       "[834 rows x 2 columns]"
      ]
     },
     "execution_count": 6,
     "metadata": {},
     "output_type": "execute_result"
    }
   ],
   "source": [
    "df['tweet_text']=df['tweet_text'].apply(lambda x : remove_URL(x))\n",
    "df"
   ]
  },
  {
   "cell_type": "code",
   "execution_count": null,
   "id": "3ab24dea-af2b-47e0-adce-55e32cdd7bd3",
   "metadata": {},
   "outputs": [],
   "source": []
  }
 ],
 "metadata": {
  "kernelspec": {
   "display_name": "Python 3",
   "language": "python",
   "name": "python3"
  },
  "language_info": {
   "codemirror_mode": {
    "name": "ipython",
    "version": 3
   },
   "file_extension": ".py",
   "mimetype": "text/x-python",
   "name": "python",
   "nbconvert_exporter": "python",
   "pygments_lexer": "ipython3",
   "version": "3.8.5"
  }
 },
 "nbformat": 4,
 "nbformat_minor": 5
}
